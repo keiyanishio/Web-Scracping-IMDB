{
  "nbformat": 4,
  "nbformat_minor": 0,
  "metadata": {
    "colab": {
      "provenance": []
    },
    "kernelspec": {
      "name": "python3",
      "display_name": "Python 3"
    },
    "language_info": {
      "name": "python"
    }
  },
  "cells": [
    {
      "cell_type": "markdown",
      "source": [
        "# Alunos: Keiya Nishio e Karen Nishio"
      ],
      "metadata": {
        "id": "CcLxqYxlpd51"
      }
    },
    {
      "cell_type": "markdown",
      "source": [
        "# Projeto Web Scrapper"
      ],
      "metadata": {
        "id": "5GEeWb4qmkaL"
      }
    },
    {
      "cell_type": "markdown",
      "source": [
        "## Instalando as o Beautiful Soup"
      ],
      "metadata": {
        "id": "5JM7qlS1IIL4"
      }
    },
    {
      "cell_type": "code",
      "source": [
        "!pip install -U BeautifulSoup4"
      ],
      "metadata": {
        "colab": {
          "base_uri": "https://localhost:8080/"
        },
        "id": "My9ZgIC31qkU",
        "outputId": "d2de4b98-47d9-492e-acc4-e1118e576409"
      },
      "execution_count": null,
      "outputs": [
        {
          "output_type": "stream",
          "name": "stdout",
          "text": [
            "Requirement already satisfied: BeautifulSoup4 in /usr/local/lib/python3.10/dist-packages (4.12.3)\n",
            "Requirement already satisfied: soupsieve>1.2 in /usr/local/lib/python3.10/dist-packages (from BeautifulSoup4) (2.5)\n"
          ]
        }
      ]
    },
    {
      "cell_type": "markdown",
      "source": [
        "## Importanto as bibliotecas"
      ],
      "metadata": {
        "id": "-WtXVKEfIN4v"
      }
    },
    {
      "cell_type": "code",
      "source": [
        "from bs4 import BeautifulSoup\n",
        "import requests\n",
        "import re\n",
        "import csv\n",
        "import pandas as pd\n"
      ],
      "metadata": {
        "id": "j36N3HpCIS5Q"
      },
      "execution_count": null,
      "outputs": []
    },
    {
      "cell_type": "markdown",
      "source": [
        "## Definindo o link do site para obter os dados"
      ],
      "metadata": {
        "id": "_bY_AdQJIY-o"
      }
    },
    {
      "cell_type": "code",
      "source": [
        "url = 'https://m.imdb.com/chart/top/'\n",
        "\n",
        "headers = {'User-Agent': 'Mozilla/5.0 (Windows NT 10.0; Win64; x64) AppleWebKit/537.36 (KHTML, like Gecko) Chrome/114.0.0.0 Safari/537.36'}\n",
        "\n",
        "response = requests.get(url, headers=headers)\n"
      ],
      "metadata": {
        "id": "Q1kdpA876xaM"
      },
      "execution_count": null,
      "outputs": []
    },
    {
      "cell_type": "markdown",
      "source": [
        "## Obtendo os dados"
      ],
      "metadata": {
        "id": "DLdgjp2MIfRg"
      }
    },
    {
      "cell_type": "markdown",
      "source": [
        "### Títulos dos filmes"
      ],
      "metadata": {
        "id": "RlXFj5n0Iibe"
      }
    },
    {
      "cell_type": "code",
      "source": [
        "soup = BeautifulSoup(response.content, 'html.parser')\n",
        "movies_titles = soup.find_all('h3', class_='ipc-title__text')\n",
        "movies = []\n",
        "for movie in movies_titles:\n",
        "    movie_text = movie.get_text().replace('\\n', \"\").strip(\" \")\n",
        "    if movie_text[0].isdigit():\n",
        "        movies.append(movie_text)\n",
        "movies"
      ],
      "metadata": {
        "id": "Kjcq0nIFCvOZ"
      },
      "execution_count": null,
      "outputs": []
    },
    {
      "cell_type": "code",
      "source": [
        "movies = [movie.split('. ')[1] for movie in movies]"
      ],
      "metadata": {
        "id": "Gmrk8sduI0IC"
      },
      "execution_count": null,
      "outputs": []
    },
    {
      "cell_type": "markdown",
      "source": [
        "### As notas de avaliações de cada filme"
      ],
      "metadata": {
        "id": "PdeRIWIPIskh"
      }
    },
    {
      "cell_type": "code",
      "source": [
        "rating_span = soup.find_all('span', class_='ipc-rating-star--imdb')\n",
        "ratings_list = []\n",
        "\n",
        "for span in rating_span:\n",
        "    rating_text = span.get_text()\n",
        "    rating_match = re.search(r'(\\d+\\.\\d+)', rating_text)\n",
        "    if rating_match:\n",
        "        rating = rating_match.group(0)\n",
        "        ratings_list.append(rating)\n",
        "    else:\n",
        "        print(\"Nota do IMDb não encontrada\")\n",
        "\n",
        "if not ratings_list:\n",
        "    print(\"Elemento de avaliação IMDb não encontrado\")\n",
        "\n",
        "print(ratings_list)"
      ],
      "metadata": {
        "colab": {
          "base_uri": "https://localhost:8080/"
        },
        "id": "oTteh43q9I2b",
        "outputId": "ac60b789-f513-4212-e16e-f0b95aa61e6a"
      },
      "execution_count": null,
      "outputs": [
        {
          "output_type": "stream",
          "name": "stdout",
          "text": [
            "['9.3', '9.2', '9.0', '9.0', '9.0', '9.0', '9.0', '8.9', '8.9', '8.8', '8.8', '8.8', '8.8', '8.8', '8.7', '8.7', '8.7', '8.7', '8.7', '8.6', '8.7', '8.6', '8.6', '8.6', '8.6', '8.6', '8.6', '8.6', '8.6', '8.6', '8.5', '8.6', '8.5', '8.5', '8.5', '8.6', '8.5', '8.5', '8.5', '8.5', '8.5', '8.5', '8.5', '8.5', '8.6', '8.5', '8.5', '8.5', '8.5', '8.5', '8.5', '8.5', '8.5', '8.5', '8.5', '8.4', '8.4', '9.0', '8.4', '8.4', '8.4', '8.4', '8.4', '8.4', '8.4', '8.4', '8.4', '8.4', '8.4', '8.4', '8.4', '8.4', '8.3', '8.3', '8.4', '8.4', '8.3', '8.4', '8.4', '8.3', '8.4', '8.3', '8.3', '8.4', '8.3', '8.4', '8.4', '8.3', '8.4', '8.3', '8.4', '8.3', '8.3', '8.3', '8.3', '8.3', '8.3', '8.3', '8.3', '8.3', '8.3', '8.3', '8.3', '8.3', '8.3', '8.3', '8.3', '8.3', '8.3', '8.3', '8.3', '8.3', '8.3', '8.3', '8.3', '8.3', '8.2', '8.2', '8.3', '8.3', '8.2', '8.3', '8.2', '8.2', '8.3', '8.2', '8.2', '8.3', '8.2', '8.2', '8.2', '8.2', '8.2', '8.2', '8.2', '8.3', '8.2', '8.2', '8.2', '8.2', '8.2', '8.2', '8.2', '8.2', '8.2', '8.2', '8.2', '8.2', '8.2', '8.2', '8.2', '8.2', '8.2', '8.2', '8.2', '8.2', '8.2', '8.2', '8.2', '8.2', '8.1', '8.2', '8.2', '8.2', '8.1', '8.2', '8.1', '8.1', '8.1', '8.1', '8.1', '8.2', '8.1', '8.2', '8.1', '8.1', '8.3', '8.1', '8.1', '8.1', '8.1', '8.2', '8.1', '8.1', '8.1', '8.1', '8.1', '8.1', '8.1', '8.1', '8.1', '8.1', '8.1', '8.1', '8.1', '8.1', '8.1', '8.1', '8.1', '8.1', '8.2', '8.1', '8.2', '8.1', '8.1', '8.1', '8.1', '8.1', '8.1', '8.1', '8.1', '8.1', '8.1', '8.1', '8.1', '8.1', '8.1', '8.1', '8.1', '8.1', '8.1', '8.1', '8.1', '8.1', '8.1', '8.1', '8.1', '8.7', '8.1', '8.1', '8.1', '8.0', '8.1', '8.1', '8.1', '8.2', '8.1', '8.1', '8.1', '8.1', '8.0', '8.1', '8.1', '8.1', '8.1', '8.1', '8.1', '8.0', '8.0', '8.1']\n"
          ]
        }
      ]
    },
    {
      "cell_type": "markdown",
      "source": [
        "### Ano do lançamento"
      ],
      "metadata": {
        "id": "E5n4a5hoJOG6"
      }
    },
    {
      "cell_type": "code",
      "source": [
        "years = soup.find_all('span', class_='sc-b189961a-8 kLaxqf cli-title-metadata-item')\n",
        "year_list = []\n",
        "\n",
        "for year in years:\n",
        "    year_text = year.get_text()\n",
        "    year_match = re.search(r'(\\d+\\d+\\d+\\d+)', year_text)\n",
        "    if year_match:\n",
        "        ano = year_match.group(0)\n",
        "        year_list.append(ano)\n",
        "\n",
        "year_list"
      ],
      "metadata": {
        "id": "GZwltcW4KRFs"
      },
      "execution_count": null,
      "outputs": []
    },
    {
      "cell_type": "markdown",
      "source": [
        "## Duração dos filmes"
      ],
      "metadata": {
        "id": "UvCDlgiqNwpo"
      }
    },
    {
      "cell_type": "code",
      "source": [
        "durations = soup.find_all('span', class_='sc-b189961a-8 kLaxqf cli-title-metadata-item')\n",
        "duration_list = []\n",
        "\n",
        "for duration in durations:\n",
        "    duration_text = duration.get_text()\n",
        "    duration_match = re.search(r'(\\d+h \\d+m)', duration_text)\n",
        "    duration_match_hour = re.search(r'(\\d+h)', duration_text)\n",
        "    duration_match_min = re.search(r'(\\d+m)', duration_text)\n",
        "    if duration_match:\n",
        "        duracao = duration_match.group(0)\n",
        "        duration_list.append(duracao)\n",
        "    elif duration_match_hour:\n",
        "        duracao = duration_match_hour.group(0)\n",
        "        duration_list.append(duracao)\n",
        "    elif duration_match_min:\n",
        "        duracao = duration_match_min.group(0)\n",
        "        duration_list.append(duracao)\n",
        "\n",
        "duration_list"
      ],
      "metadata": {
        "id": "qXqQn734OEFc"
      },
      "execution_count": null,
      "outputs": []
    },
    {
      "cell_type": "code",
      "source": [
        "def convert_to_min(duration):\n",
        "    if \"h\" not in duration:\n",
        "        duration = duration.replace('m', '')\n",
        "        return int(duration)\n",
        "\n",
        "    duration = duration.replace(' ', '')\n",
        "    hours = re.search(r'(\\d+h)', duration)\n",
        "    hours = int(hours.group(0).replace('h', '')) if hours else 0\n",
        "    minutes = re.search(r'(\\d+m)', duration)\n",
        "    minutes = int(minutes.group(0).replace('m', '')) if minutes else 0\n",
        "    minutes += hours * 60\n",
        "    return minutes\n",
        "\n",
        "\n",
        "\n",
        "duration_list_min = [convert_to_min(duration) for duration in duration_list]\n",
        "\n",
        "duration_list_min"
      ],
      "metadata": {
        "id": "E9NlFPI4RCKk",
        "colab": {
          "base_uri": "https://localhost:8080/"
        },
        "outputId": "35de1891-c012-4523-eeb8-a13705a9e9b2"
      },
      "execution_count": 94,
      "outputs": [
        {
          "output_type": "stream",
          "name": "stdout",
          "text": [
            "[142, 175, 152, 202, 96, 195, 201, 154, 178, 178, 142, 179, 139, 148, 124, 136, 145, 133, 166, 127, 169, 130, 207, 118, 169, 130, 116, 189, 137, 121, 116, 125, 150, 132, 109, 140, 155, 88, 110, 151, 119, 106, 130, 89, 133, 106, 102, 112, 174, 87, 112, 166, 117, 87, 165, 147, 113, 147, 98, 115, 137, 110, 88, 149, 117, 116, 146, 125, 137, 153, 164, 95, 122, 120, 105, 160, 81, 149, 181, 178, 122, 134, 126, 106, 229, 143, 170, 103, 126, 102, 142, 103, 131, 180, 108, 115, 149, 99, 143, 218, 125, 136, 119, 131, 128, 99, 107, 170, 122, 116, 170, 136, 96, 129, 129, 123, 127, 132, 153, 162, 102, 160, 138, 119, 89, 114, 156, 161, 132, 140, 180, 121, 130, 68, 97, 179, 138, 103, 130, 138, 158, 178, 127, 160, 107, 118, 130, 122, 135, 109, 111, 126, 110, 91, 172, 100, 88, 153, 119, 124, 130, 105, 238, 132, 107, 129, 95, 129, 115, 93, 161, 148, 98, 96, 141, 140, 124, 116, 86, 132, 130, 89, 134, 117, 101, 212, 185, 99, 149, 139, 95, 132, 133, 128, 122, 120, 78, 183, 108, 92, 45, 93, 131, 91, 124, 98, 92, 129, 111, 152, 136, 117, 118, 96, 120, 137, 129, 121, 107, 120, 114, 98, 80, 170, 143, 122, 123, 164, 121, 89, 102, 115, 93, 145, 148, 112, 172, 99, 129, 121, 101, 154, 130, 86, 127, 146, 105, 90, 181, 98]\n"
          ]
        }
      ]
    },
    {
      "cell_type": "markdown",
      "source": [
        "### Classificação"
      ],
      "metadata": {
        "id": "PogtxqRjTexH"
      }
    },
    {
      "cell_type": "code",
      "source": [
        "classifications = soup.find_all('span', class_='sc-b189961a-8 kLaxqf cli-title-metadata-item')\n",
        "cls_list = []\n",
        "\n",
        "for cls in classifications:\n",
        "    cls_text = cls.get_text()\n",
        "    cls_match = re.search(r'^[A-Za-z]*[A-Za-z][A-Za-z0-9-. _]*$', cls_text)\n",
        "    if cls_match:\n",
        "        classification = cls_match.group(0)\n",
        "        cls_list.append(classification)\n",
        "\n",
        "# Adiciona classificação em filmes sem classificação\n",
        "cls_list.insert(57, \"PG\")\n",
        "cls_list.insert(77, \"R\")\n",
        "cls_list.insert(83, \"PG-13\")\n",
        "cls_list"
      ],
      "metadata": {
        "id": "DNp7f-kRceRM"
      },
      "execution_count": null,
      "outputs": []
    },
    {
      "cell_type": "markdown",
      "source": [
        "## Criando o banco de dados"
      ],
      "metadata": {
        "id": "9i2aW5_1I4fi"
      }
    },
    {
      "cell_type": "code",
      "source": [
        "data = pd.DataFrame()\n",
        "data['Movie Names'] = movies\n",
        "data['Ratings'] = ratings_list\n",
        "data['Year'] = year_list\n",
        "data['Duration (Minutes)'] = duration_list_min\n",
        "data['Classification'] = cls_list\n",
        "data"
      ],
      "metadata": {
        "colab": {
          "base_uri": "https://localhost:8080/",
          "height": 423
        },
        "id": "O2QEMI5LF2M8",
        "outputId": "ef6c8ae0-cbb1-431f-c530-6feb6ed5ce53"
      },
      "execution_count": 95,
      "outputs": [
        {
          "output_type": "execute_result",
          "data": {
            "text/plain": [
              "                  Movie Names Ratings  Year  Duration (Minutes) Classification\n",
              "0    The Shawshank Redemption     9.3  1994                 142              R\n",
              "1               The Godfather     9.2  1972                 175              R\n",
              "2             The Dark Knight     9.0  2008                 152          PG-13\n",
              "3       The Godfather Part II     9.0  1974                 202              R\n",
              "4                12 Angry Men     9.0  1957                  96       Approved\n",
              "..                        ...     ...   ...                 ...            ...\n",
              "245                  The Help     8.1  2011                 146          PG-13\n",
              "246     It Happened One Night     8.1  1934                 105       Approved\n",
              "247                   Aladdin     8.0  1992                  90              G\n",
              "248        Dances with Wolves     8.0  1990                 181          PG-13\n",
              "249      In the Mood for Love     8.1  2000                  98             PG\n",
              "\n",
              "[250 rows x 5 columns]"
            ],
            "text/html": [
              "\n",
              "  <div id=\"df-244adc10-160b-4000-9d25-447bb25d4ee5\" class=\"colab-df-container\">\n",
              "    <div>\n",
              "<style scoped>\n",
              "    .dataframe tbody tr th:only-of-type {\n",
              "        vertical-align: middle;\n",
              "    }\n",
              "\n",
              "    .dataframe tbody tr th {\n",
              "        vertical-align: top;\n",
              "    }\n",
              "\n",
              "    .dataframe thead th {\n",
              "        text-align: right;\n",
              "    }\n",
              "</style>\n",
              "<table border=\"1\" class=\"dataframe\">\n",
              "  <thead>\n",
              "    <tr style=\"text-align: right;\">\n",
              "      <th></th>\n",
              "      <th>Movie Names</th>\n",
              "      <th>Ratings</th>\n",
              "      <th>Year</th>\n",
              "      <th>Duration (Minutes)</th>\n",
              "      <th>Classification</th>\n",
              "    </tr>\n",
              "  </thead>\n",
              "  <tbody>\n",
              "    <tr>\n",
              "      <th>0</th>\n",
              "      <td>The Shawshank Redemption</td>\n",
              "      <td>9.3</td>\n",
              "      <td>1994</td>\n",
              "      <td>142</td>\n",
              "      <td>R</td>\n",
              "    </tr>\n",
              "    <tr>\n",
              "      <th>1</th>\n",
              "      <td>The Godfather</td>\n",
              "      <td>9.2</td>\n",
              "      <td>1972</td>\n",
              "      <td>175</td>\n",
              "      <td>R</td>\n",
              "    </tr>\n",
              "    <tr>\n",
              "      <th>2</th>\n",
              "      <td>The Dark Knight</td>\n",
              "      <td>9.0</td>\n",
              "      <td>2008</td>\n",
              "      <td>152</td>\n",
              "      <td>PG-13</td>\n",
              "    </tr>\n",
              "    <tr>\n",
              "      <th>3</th>\n",
              "      <td>The Godfather Part II</td>\n",
              "      <td>9.0</td>\n",
              "      <td>1974</td>\n",
              "      <td>202</td>\n",
              "      <td>R</td>\n",
              "    </tr>\n",
              "    <tr>\n",
              "      <th>4</th>\n",
              "      <td>12 Angry Men</td>\n",
              "      <td>9.0</td>\n",
              "      <td>1957</td>\n",
              "      <td>96</td>\n",
              "      <td>Approved</td>\n",
              "    </tr>\n",
              "    <tr>\n",
              "      <th>...</th>\n",
              "      <td>...</td>\n",
              "      <td>...</td>\n",
              "      <td>...</td>\n",
              "      <td>...</td>\n",
              "      <td>...</td>\n",
              "    </tr>\n",
              "    <tr>\n",
              "      <th>245</th>\n",
              "      <td>The Help</td>\n",
              "      <td>8.1</td>\n",
              "      <td>2011</td>\n",
              "      <td>146</td>\n",
              "      <td>PG-13</td>\n",
              "    </tr>\n",
              "    <tr>\n",
              "      <th>246</th>\n",
              "      <td>It Happened One Night</td>\n",
              "      <td>8.1</td>\n",
              "      <td>1934</td>\n",
              "      <td>105</td>\n",
              "      <td>Approved</td>\n",
              "    </tr>\n",
              "    <tr>\n",
              "      <th>247</th>\n",
              "      <td>Aladdin</td>\n",
              "      <td>8.0</td>\n",
              "      <td>1992</td>\n",
              "      <td>90</td>\n",
              "      <td>G</td>\n",
              "    </tr>\n",
              "    <tr>\n",
              "      <th>248</th>\n",
              "      <td>Dances with Wolves</td>\n",
              "      <td>8.0</td>\n",
              "      <td>1990</td>\n",
              "      <td>181</td>\n",
              "      <td>PG-13</td>\n",
              "    </tr>\n",
              "    <tr>\n",
              "      <th>249</th>\n",
              "      <td>In the Mood for Love</td>\n",
              "      <td>8.1</td>\n",
              "      <td>2000</td>\n",
              "      <td>98</td>\n",
              "      <td>PG</td>\n",
              "    </tr>\n",
              "  </tbody>\n",
              "</table>\n",
              "<p>250 rows × 5 columns</p>\n",
              "</div>\n",
              "    <div class=\"colab-df-buttons\">\n",
              "\n",
              "  <div class=\"colab-df-container\">\n",
              "    <button class=\"colab-df-convert\" onclick=\"convertToInteractive('df-244adc10-160b-4000-9d25-447bb25d4ee5')\"\n",
              "            title=\"Convert this dataframe to an interactive table.\"\n",
              "            style=\"display:none;\">\n",
              "\n",
              "  <svg xmlns=\"http://www.w3.org/2000/svg\" height=\"24px\" viewBox=\"0 -960 960 960\">\n",
              "    <path d=\"M120-120v-720h720v720H120Zm60-500h600v-160H180v160Zm220 220h160v-160H400v160Zm0 220h160v-160H400v160ZM180-400h160v-160H180v160Zm440 0h160v-160H620v160ZM180-180h160v-160H180v160Zm440 0h160v-160H620v160Z\"/>\n",
              "  </svg>\n",
              "    </button>\n",
              "\n",
              "  <style>\n",
              "    .colab-df-container {\n",
              "      display:flex;\n",
              "      gap: 12px;\n",
              "    }\n",
              "\n",
              "    .colab-df-convert {\n",
              "      background-color: #E8F0FE;\n",
              "      border: none;\n",
              "      border-radius: 50%;\n",
              "      cursor: pointer;\n",
              "      display: none;\n",
              "      fill: #1967D2;\n",
              "      height: 32px;\n",
              "      padding: 0 0 0 0;\n",
              "      width: 32px;\n",
              "    }\n",
              "\n",
              "    .colab-df-convert:hover {\n",
              "      background-color: #E2EBFA;\n",
              "      box-shadow: 0px 1px 2px rgba(60, 64, 67, 0.3), 0px 1px 3px 1px rgba(60, 64, 67, 0.15);\n",
              "      fill: #174EA6;\n",
              "    }\n",
              "\n",
              "    .colab-df-buttons div {\n",
              "      margin-bottom: 4px;\n",
              "    }\n",
              "\n",
              "    [theme=dark] .colab-df-convert {\n",
              "      background-color: #3B4455;\n",
              "      fill: #D2E3FC;\n",
              "    }\n",
              "\n",
              "    [theme=dark] .colab-df-convert:hover {\n",
              "      background-color: #434B5C;\n",
              "      box-shadow: 0px 1px 3px 1px rgba(0, 0, 0, 0.15);\n",
              "      filter: drop-shadow(0px 1px 2px rgba(0, 0, 0, 0.3));\n",
              "      fill: #FFFFFF;\n",
              "    }\n",
              "  </style>\n",
              "\n",
              "    <script>\n",
              "      const buttonEl =\n",
              "        document.querySelector('#df-244adc10-160b-4000-9d25-447bb25d4ee5 button.colab-df-convert');\n",
              "      buttonEl.style.display =\n",
              "        google.colab.kernel.accessAllowed ? 'block' : 'none';\n",
              "\n",
              "      async function convertToInteractive(key) {\n",
              "        const element = document.querySelector('#df-244adc10-160b-4000-9d25-447bb25d4ee5');\n",
              "        const dataTable =\n",
              "          await google.colab.kernel.invokeFunction('convertToInteractive',\n",
              "                                                    [key], {});\n",
              "        if (!dataTable) return;\n",
              "\n",
              "        const docLinkHtml = 'Like what you see? Visit the ' +\n",
              "          '<a target=\"_blank\" href=https://colab.research.google.com/notebooks/data_table.ipynb>data table notebook</a>'\n",
              "          + ' to learn more about interactive tables.';\n",
              "        element.innerHTML = '';\n",
              "        dataTable['output_type'] = 'display_data';\n",
              "        await google.colab.output.renderOutput(dataTable, element);\n",
              "        const docLink = document.createElement('div');\n",
              "        docLink.innerHTML = docLinkHtml;\n",
              "        element.appendChild(docLink);\n",
              "      }\n",
              "    </script>\n",
              "  </div>\n",
              "\n",
              "\n",
              "<div id=\"df-befc71d3-0b4a-4df3-957b-977673844ba5\">\n",
              "  <button class=\"colab-df-quickchart\" onclick=\"quickchart('df-befc71d3-0b4a-4df3-957b-977673844ba5')\"\n",
              "            title=\"Suggest charts\"\n",
              "            style=\"display:none;\">\n",
              "\n",
              "<svg xmlns=\"http://www.w3.org/2000/svg\" height=\"24px\"viewBox=\"0 0 24 24\"\n",
              "     width=\"24px\">\n",
              "    <g>\n",
              "        <path d=\"M19 3H5c-1.1 0-2 .9-2 2v14c0 1.1.9 2 2 2h14c1.1 0 2-.9 2-2V5c0-1.1-.9-2-2-2zM9 17H7v-7h2v7zm4 0h-2V7h2v10zm4 0h-2v-4h2v4z\"/>\n",
              "    </g>\n",
              "</svg>\n",
              "  </button>\n",
              "\n",
              "<style>\n",
              "  .colab-df-quickchart {\n",
              "      --bg-color: #E8F0FE;\n",
              "      --fill-color: #1967D2;\n",
              "      --hover-bg-color: #E2EBFA;\n",
              "      --hover-fill-color: #174EA6;\n",
              "      --disabled-fill-color: #AAA;\n",
              "      --disabled-bg-color: #DDD;\n",
              "  }\n",
              "\n",
              "  [theme=dark] .colab-df-quickchart {\n",
              "      --bg-color: #3B4455;\n",
              "      --fill-color: #D2E3FC;\n",
              "      --hover-bg-color: #434B5C;\n",
              "      --hover-fill-color: #FFFFFF;\n",
              "      --disabled-bg-color: #3B4455;\n",
              "      --disabled-fill-color: #666;\n",
              "  }\n",
              "\n",
              "  .colab-df-quickchart {\n",
              "    background-color: var(--bg-color);\n",
              "    border: none;\n",
              "    border-radius: 50%;\n",
              "    cursor: pointer;\n",
              "    display: none;\n",
              "    fill: var(--fill-color);\n",
              "    height: 32px;\n",
              "    padding: 0;\n",
              "    width: 32px;\n",
              "  }\n",
              "\n",
              "  .colab-df-quickchart:hover {\n",
              "    background-color: var(--hover-bg-color);\n",
              "    box-shadow: 0 1px 2px rgba(60, 64, 67, 0.3), 0 1px 3px 1px rgba(60, 64, 67, 0.15);\n",
              "    fill: var(--button-hover-fill-color);\n",
              "  }\n",
              "\n",
              "  .colab-df-quickchart-complete:disabled,\n",
              "  .colab-df-quickchart-complete:disabled:hover {\n",
              "    background-color: var(--disabled-bg-color);\n",
              "    fill: var(--disabled-fill-color);\n",
              "    box-shadow: none;\n",
              "  }\n",
              "\n",
              "  .colab-df-spinner {\n",
              "    border: 2px solid var(--fill-color);\n",
              "    border-color: transparent;\n",
              "    border-bottom-color: var(--fill-color);\n",
              "    animation:\n",
              "      spin 1s steps(1) infinite;\n",
              "  }\n",
              "\n",
              "  @keyframes spin {\n",
              "    0% {\n",
              "      border-color: transparent;\n",
              "      border-bottom-color: var(--fill-color);\n",
              "      border-left-color: var(--fill-color);\n",
              "    }\n",
              "    20% {\n",
              "      border-color: transparent;\n",
              "      border-left-color: var(--fill-color);\n",
              "      border-top-color: var(--fill-color);\n",
              "    }\n",
              "    30% {\n",
              "      border-color: transparent;\n",
              "      border-left-color: var(--fill-color);\n",
              "      border-top-color: var(--fill-color);\n",
              "      border-right-color: var(--fill-color);\n",
              "    }\n",
              "    40% {\n",
              "      border-color: transparent;\n",
              "      border-right-color: var(--fill-color);\n",
              "      border-top-color: var(--fill-color);\n",
              "    }\n",
              "    60% {\n",
              "      border-color: transparent;\n",
              "      border-right-color: var(--fill-color);\n",
              "    }\n",
              "    80% {\n",
              "      border-color: transparent;\n",
              "      border-right-color: var(--fill-color);\n",
              "      border-bottom-color: var(--fill-color);\n",
              "    }\n",
              "    90% {\n",
              "      border-color: transparent;\n",
              "      border-bottom-color: var(--fill-color);\n",
              "    }\n",
              "  }\n",
              "</style>\n",
              "\n",
              "  <script>\n",
              "    async function quickchart(key) {\n",
              "      const quickchartButtonEl =\n",
              "        document.querySelector('#' + key + ' button');\n",
              "      quickchartButtonEl.disabled = true;  // To prevent multiple clicks.\n",
              "      quickchartButtonEl.classList.add('colab-df-spinner');\n",
              "      try {\n",
              "        const charts = await google.colab.kernel.invokeFunction(\n",
              "            'suggestCharts', [key], {});\n",
              "      } catch (error) {\n",
              "        console.error('Error during call to suggestCharts:', error);\n",
              "      }\n",
              "      quickchartButtonEl.classList.remove('colab-df-spinner');\n",
              "      quickchartButtonEl.classList.add('colab-df-quickchart-complete');\n",
              "    }\n",
              "    (() => {\n",
              "      let quickchartButtonEl =\n",
              "        document.querySelector('#df-befc71d3-0b4a-4df3-957b-977673844ba5 button');\n",
              "      quickchartButtonEl.style.display =\n",
              "        google.colab.kernel.accessAllowed ? 'block' : 'none';\n",
              "    })();\n",
              "  </script>\n",
              "</div>\n",
              "\n",
              "  <div id=\"id_8a5a34d3-46e3-4947-ad5a-ea88ba81d5d4\">\n",
              "    <style>\n",
              "      .colab-df-generate {\n",
              "        background-color: #E8F0FE;\n",
              "        border: none;\n",
              "        border-radius: 50%;\n",
              "        cursor: pointer;\n",
              "        display: none;\n",
              "        fill: #1967D2;\n",
              "        height: 32px;\n",
              "        padding: 0 0 0 0;\n",
              "        width: 32px;\n",
              "      }\n",
              "\n",
              "      .colab-df-generate:hover {\n",
              "        background-color: #E2EBFA;\n",
              "        box-shadow: 0px 1px 2px rgba(60, 64, 67, 0.3), 0px 1px 3px 1px rgba(60, 64, 67, 0.15);\n",
              "        fill: #174EA6;\n",
              "      }\n",
              "\n",
              "      [theme=dark] .colab-df-generate {\n",
              "        background-color: #3B4455;\n",
              "        fill: #D2E3FC;\n",
              "      }\n",
              "\n",
              "      [theme=dark] .colab-df-generate:hover {\n",
              "        background-color: #434B5C;\n",
              "        box-shadow: 0px 1px 3px 1px rgba(0, 0, 0, 0.15);\n",
              "        filter: drop-shadow(0px 1px 2px rgba(0, 0, 0, 0.3));\n",
              "        fill: #FFFFFF;\n",
              "      }\n",
              "    </style>\n",
              "    <button class=\"colab-df-generate\" onclick=\"generateWithVariable('data')\"\n",
              "            title=\"Generate code using this dataframe.\"\n",
              "            style=\"display:none;\">\n",
              "\n",
              "  <svg xmlns=\"http://www.w3.org/2000/svg\" height=\"24px\"viewBox=\"0 0 24 24\"\n",
              "       width=\"24px\">\n",
              "    <path d=\"M7,19H8.4L18.45,9,17,7.55,7,17.6ZM5,21V16.75L18.45,3.32a2,2,0,0,1,2.83,0l1.4,1.43a1.91,1.91,0,0,1,.58,1.4,1.91,1.91,0,0,1-.58,1.4L9.25,21ZM18.45,9,17,7.55Zm-12,3A5.31,5.31,0,0,0,4.9,8.1,5.31,5.31,0,0,0,1,6.5,5.31,5.31,0,0,0,4.9,4.9,5.31,5.31,0,0,0,6.5,1,5.31,5.31,0,0,0,8.1,4.9,5.31,5.31,0,0,0,12,6.5,5.46,5.46,0,0,0,6.5,12Z\"/>\n",
              "  </svg>\n",
              "    </button>\n",
              "    <script>\n",
              "      (() => {\n",
              "      const buttonEl =\n",
              "        document.querySelector('#id_8a5a34d3-46e3-4947-ad5a-ea88ba81d5d4 button.colab-df-generate');\n",
              "      buttonEl.style.display =\n",
              "        google.colab.kernel.accessAllowed ? 'block' : 'none';\n",
              "\n",
              "      buttonEl.onclick = () => {\n",
              "        google.colab.notebook.generateWithVariable('data');\n",
              "      }\n",
              "      })();\n",
              "    </script>\n",
              "  </div>\n",
              "\n",
              "    </div>\n",
              "  </div>\n"
            ],
            "application/vnd.google.colaboratory.intrinsic+json": {
              "type": "dataframe",
              "variable_name": "data",
              "summary": "{\n  \"name\": \"data\",\n  \"rows\": 250,\n  \"fields\": [\n    {\n      \"column\": \"Movie Names\",\n      \"properties\": {\n        \"dtype\": \"string\",\n        \"num_unique_values\": 250,\n        \"samples\": [\n          \"Jurassic Park\",\n          \"The Lord of the Rings: The Return of the King\",\n          \"Reservoir Dogs\"\n        ],\n        \"semantic_type\": \"\",\n        \"description\": \"\"\n      }\n    },\n    {\n      \"column\": \"Ratings\",\n      \"properties\": {\n        \"dtype\": \"category\",\n        \"num_unique_values\": 13,\n        \"samples\": [\n          \"8.1\",\n          \"8.3\",\n          \"9.3\"\n        ],\n        \"semantic_type\": \"\",\n        \"description\": \"\"\n      }\n    },\n    {\n      \"column\": \"Year\",\n      \"properties\": {\n        \"dtype\": \"object\",\n        \"num_unique_values\": 87,\n        \"samples\": [\n          \"1996\",\n          \"1994\",\n          \"1960\"\n        ],\n        \"semantic_type\": \"\",\n        \"description\": \"\"\n      }\n    },\n    {\n      \"column\": \"Duration (Minutes)\",\n      \"properties\": {\n        \"dtype\": \"number\",\n        \"std\": 29,\n        \"min\": 45,\n        \"max\": 238,\n        \"num_unique_values\": 100,\n        \"samples\": [\n          111,\n          122,\n          128\n        ],\n        \"semantic_type\": \"\",\n        \"description\": \"\"\n      }\n    },\n    {\n      \"column\": \"Classification\",\n      \"properties\": {\n        \"dtype\": \"category\",\n        \"num_unique_values\": 8,\n        \"samples\": [\n          \"PG-13\",\n          \"G\",\n          \"R\"\n        ],\n        \"semantic_type\": \"\",\n        \"description\": \"\"\n      }\n    }\n  ]\n}"
            }
          },
          "metadata": {},
          "execution_count": 95
        }
      ]
    },
    {
      "cell_type": "code",
      "source": [
        "data.to_csv(\"imdb.csv\")"
      ],
      "metadata": {
        "id": "Ks4vjXQUHtD_"
      },
      "execution_count": 96,
      "outputs": []
    },
    {
      "cell_type": "code",
      "source": [],
      "metadata": {
        "id": "xqlEPFVQjUm8"
      },
      "execution_count": null,
      "outputs": []
    }
  ]
}