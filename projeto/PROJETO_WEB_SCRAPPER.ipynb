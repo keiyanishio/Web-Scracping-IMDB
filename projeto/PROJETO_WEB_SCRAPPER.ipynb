{
  "nbformat": 4,
  "nbformat_minor": 0,
  "metadata": {
    "colab": {
      "provenance": []
    },
    "kernelspec": {
      "name": "python3",
      "display_name": "Python 3"
    },
    "language_info": {
      "name": "python"
    }
  },
  "cells": [
    {
      "cell_type": "markdown",
      "source": [
        "# Alunos: Keiya Nishio e Karen Nishio"
      ],
      "metadata": {
        "id": "CcLxqYxlpd51"
      }
    },
    {
      "cell_type": "markdown",
      "source": [
        "# Projeto Web Scrapper"
      ],
      "metadata": {
        "id": "5GEeWb4qmkaL"
      }
    },
    {
      "cell_type": "markdown",
      "source": [
        "## Descrição\n",
        "Este projeto tem como objetivo realizar um Web Scraping na página dos top 250 melhores filmes de acordo com o IMDB, uma das fontes mais confiáveis para avaliação cinematográfica. Utilizando técnicas de Web Scraping, os dados essenciais sobre cada filme, como título, ano de lançamento, classificação, nota de avaliação e duração, serão extraídos de forma automatizada.\n",
        "\n",
        "Uma vez que os dados são coletados, eles serão submetidos a uma análise. Serão criados gráficos e visualizações que permitirão uma compreensão mais clara das tendências e padrões dentro da lista dos melhores filmes.\n",
        "\n",
        "## Ferramentas\n",
        "- Beautiful Soup\n",
        "- Pandas\n",
        "\n",
        "## Página IMDB\n",
        "- https://m.imdb.com/chart/top/\n"
      ],
      "metadata": {
        "id": "NgKmbCbapk5C"
      }
    },
    {
      "cell_type": "markdown",
      "source": [
        "## Instalando as o Beautiful Soup"
      ],
      "metadata": {
        "id": "5JM7qlS1IIL4"
      }
    },
    {
      "cell_type": "code",
      "source": [
        "!pip install -U BeautifulSoup4"
      ],
      "metadata": {
        "id": "My9ZgIC31qkU"
      },
      "execution_count": null,
      "outputs": []
    },
    {
      "cell_type": "markdown",
      "source": [
        "## Importanto as bibliotecas"
      ],
      "metadata": {
        "id": "-WtXVKEfIN4v"
      }
    },
    {
      "cell_type": "code",
      "source": [
        "from bs4 import BeautifulSoup\n",
        "import requests\n",
        "import re\n",
        "import csv\n",
        "import pandas as pd\n",
        "import matplotlib.pyplot as plt\n",
        "import seaborn as sns"
      ],
      "metadata": {
        "id": "j36N3HpCIS5Q"
      },
      "execution_count": null,
      "outputs": []
    },
    {
      "cell_type": "markdown",
      "source": [
        "## Definindo o link do site para obter os dados"
      ],
      "metadata": {
        "id": "_bY_AdQJIY-o"
      }
    },
    {
      "cell_type": "code",
      "source": [
        "url = 'https://m.imdb.com/chart/top/'\n",
        "\n",
        "headers = {'User-Agent': 'Mozilla/5.0 (Windows NT 10.0; Win64; x64) AppleWebKit/537.36 (KHTML, like Gecko) Chrome/114.0.0.0 Safari/537.36'}\n",
        "\n",
        "response = requests.get(url, headers=headers)\n"
      ],
      "metadata": {
        "id": "Q1kdpA876xaM"
      },
      "execution_count": null,
      "outputs": []
    },
    {
      "cell_type": "markdown",
      "source": [
        "## Coleta de dados"
      ],
      "metadata": {
        "id": "DLdgjp2MIfRg"
      }
    },
    {
      "cell_type": "markdown",
      "source": [
        "### Títulos dos filmes"
      ],
      "metadata": {
        "id": "RlXFj5n0Iibe"
      }
    },
    {
      "cell_type": "code",
      "source": [
        "soup = BeautifulSoup(response.content, 'html.parser')\n",
        "movies_titles = soup.find_all('h3', class_='ipc-title__text')\n",
        "movies = []\n",
        "for movie in movies_titles:\n",
        "    movie_text = movie.get_text().replace('\\n', \"\").strip(\" \")\n",
        "    if movie_text[0].isdigit():\n",
        "        movies.append(movie_text)\n",
        "movies"
      ],
      "metadata": {
        "id": "Kjcq0nIFCvOZ",
        "collapsed": true
      },
      "execution_count": null,
      "outputs": []
    },
    {
      "cell_type": "code",
      "source": [
        "movies = [movie.split('. ')[1] for movie in movies]"
      ],
      "metadata": {
        "id": "Gmrk8sduI0IC"
      },
      "execution_count": null,
      "outputs": []
    },
    {
      "cell_type": "markdown",
      "source": [
        "### As notas de avaliações de cada filme"
      ],
      "metadata": {
        "id": "PdeRIWIPIskh"
      }
    },
    {
      "cell_type": "code",
      "source": [
        "rating_span = soup.find_all('span', class_='ipc-rating-star--imdb')\n",
        "ratings_list = []\n",
        "\n",
        "for span in rating_span:\n",
        "    rating_text = span.get_text()\n",
        "    rating_match = re.search(r'(\\d+\\.\\d+)', rating_text)\n",
        "    if rating_match:\n",
        "        rating = rating_match.group(0)\n",
        "        ratings_list.append(rating)\n",
        "    else:\n",
        "        print(\"Nota do IMDb não encontrada\")\n",
        "\n",
        "if not ratings_list:\n",
        "    print(\"Elemento de avaliação IMDb não encontrado\")\n",
        "\n",
        "print(ratings_list)"
      ],
      "metadata": {
        "id": "oTteh43q9I2b",
        "collapsed": true
      },
      "execution_count": null,
      "outputs": []
    },
    {
      "cell_type": "markdown",
      "source": [
        "### Ano do lançamento"
      ],
      "metadata": {
        "id": "E5n4a5hoJOG6"
      }
    },
    {
      "cell_type": "code",
      "source": [
        "years = soup.find_all('span', class_='sc-b189961a-8 kLaxqf cli-title-metadata-item')\n",
        "year_list = []\n",
        "\n",
        "for year in years:\n",
        "    year_text = year.get_text()\n",
        "    year_match = re.search(r'(\\d+\\d+\\d+\\d+)', year_text)\n",
        "    if year_match:\n",
        "        ano = year_match.group(0)\n",
        "        year_list.append(ano)\n",
        "\n",
        "year_list"
      ],
      "metadata": {
        "id": "GZwltcW4KRFs",
        "collapsed": true
      },
      "execution_count": null,
      "outputs": []
    },
    {
      "cell_type": "markdown",
      "source": [
        "## Duração dos filmes"
      ],
      "metadata": {
        "id": "UvCDlgiqNwpo"
      }
    },
    {
      "cell_type": "code",
      "source": [
        "durations = soup.find_all('span', class_='sc-b189961a-8 kLaxqf cli-title-metadata-item')\n",
        "duration_list = []\n",
        "\n",
        "for duration in durations:\n",
        "    duration_text = duration.get_text()\n",
        "    duration_match = re.search(r'(\\d+h \\d+m)', duration_text)\n",
        "    duration_match_hour = re.search(r'(\\d+h)', duration_text)\n",
        "    duration_match_min = re.search(r'(\\d+m)', duration_text)\n",
        "    if duration_match:\n",
        "        duracao = duration_match.group(0)\n",
        "        duration_list.append(duracao)\n",
        "    elif duration_match_hour:\n",
        "        duracao = duration_match_hour.group(0)\n",
        "        duration_list.append(duracao)\n",
        "    elif duration_match_min:\n",
        "        duracao = duration_match_min.group(0)\n",
        "        duration_list.append(duracao)\n",
        "\n",
        "duration_list"
      ],
      "metadata": {
        "id": "qXqQn734OEFc",
        "collapsed": true
      },
      "execution_count": null,
      "outputs": []
    },
    {
      "cell_type": "code",
      "source": [
        "def convert_to_min(duration):\n",
        "    if \"h\" not in duration:\n",
        "        duration = duration.replace('m', '')\n",
        "        return int(duration)\n",
        "\n",
        "    duration = duration.replace(' ', '')\n",
        "    hours = re.search(r'(\\d+h)', duration)\n",
        "    hours = int(hours.group(0).replace('h', '')) if hours else 0\n",
        "    minutes = re.search(r'(\\d+m)', duration)\n",
        "    minutes = int(minutes.group(0).replace('m', '')) if minutes else 0\n",
        "    minutes += hours * 60\n",
        "    return minutes\n",
        "\n",
        "\n",
        "\n",
        "duration_list_min = [convert_to_min(duration) for duration in duration_list]\n",
        "\n",
        "duration_list_min"
      ],
      "metadata": {
        "id": "E9NlFPI4RCKk",
        "collapsed": true
      },
      "execution_count": null,
      "outputs": []
    },
    {
      "cell_type": "markdown",
      "source": [
        "### Classificação"
      ],
      "metadata": {
        "id": "PogtxqRjTexH"
      }
    },
    {
      "cell_type": "code",
      "source": [
        "classifications = soup.find_all('span', class_='sc-b189961a-8 kLaxqf cli-title-metadata-item')\n",
        "cls_list = []\n",
        "\n",
        "for cls in classifications:\n",
        "    cls_text = cls.get_text()\n",
        "    cls_match = re.search(r'^[A-Za-z]*[A-Za-z][A-Za-z0-9-. _]*$', cls_text)\n",
        "    if cls_match:\n",
        "        classification = cls_match.group(0)\n",
        "        cls_list.append(classification)\n",
        "\n",
        "# Adiciona classificação em filmes sem classificação\n",
        "cls_list.insert(57, \"PG\")\n",
        "cls_list.insert(77, \"R\")\n",
        "cls_list.insert(83, \"PG-13\")\n",
        "cls_list"
      ],
      "metadata": {
        "id": "DNp7f-kRceRM",
        "collapsed": true
      },
      "execution_count": null,
      "outputs": []
    },
    {
      "cell_type": "markdown",
      "source": [
        "## Criando o banco de dados"
      ],
      "metadata": {
        "id": "9i2aW5_1I4fi"
      }
    },
    {
      "cell_type": "code",
      "source": [
        "df = pd.DataFrame()\n",
        "df['Title'] = movies\n",
        "df['Ratings'] = ratings_list\n",
        "df['Year'] = year_list\n",
        "df['Duration (Minutes)'] = duration_list_min\n",
        "df['Classification'] = cls_list\n",
        "# Criando uma nova coluna para representar a década\n",
        "df['Ratings'] = df['Ratings'].astype(float)\n",
        "df['Year'] = df['Year'].astype(int)\n",
        "df['Decade'] = df['Year'] // 10 * 10\n",
        "df"
      ],
      "metadata": {
        "id": "O2QEMI5LF2M8",
        "collapsed": true
      },
      "execution_count": null,
      "outputs": []
    },
    {
      "cell_type": "code",
      "source": [
        "df.to_csv(\"imdb.csv\")"
      ],
      "metadata": {
        "id": "Ks4vjXQUHtD_"
      },
      "execution_count": null,
      "outputs": []
    },
    {
      "cell_type": "markdown",
      "source": [
        "## Análise dos dados"
      ],
      "metadata": {
        "id": "7EINi18D_-5F"
      }
    },
    {
      "cell_type": "markdown",
      "source": [
        "### Análise iniciais\n",
        "Os resultados iniciais incluem as seguintes estatísticas nas colunas numéricas: média, mínimo e máximo."
      ],
      "metadata": {
        "id": "WdMbiilvY6ja"
      }
    },
    {
      "cell_type": "code",
      "source": [
        "media_notas = df['Ratings'].mean()\n",
        "print(\"Média da coluna 'Ratings':\", media_notas)\n",
        "\n",
        "menor_nota = df['Ratings'].min()\n",
        "print(\"Menor valor na coluna 'Ratings':\", menor_nota)\n",
        "\n",
        "maior_nota = df['Ratings'].max()\n",
        "print(\"Maior valor na coluna 'Ratings':\", maior_nota)"
      ],
      "metadata": {
        "id": "2n8fg_TfVZpK"
      },
      "execution_count": null,
      "outputs": []
    },
    {
      "cell_type": "code",
      "source": [
        "media_minutos = df['Duration (Minutes)'].mean()\n",
        "print(\"Média da coluna 'Duration (Minutes)':\", media_minutos)\n",
        "\n",
        "menor_minutos = df['Duration (Minutes)'].min()\n",
        "print(\"Menor valor na coluna 'Duration (Minutes)':\", menor_minutos)\n",
        "\n",
        "maior_minutos = df['Duration (Minutes)'].max()\n",
        "print(\"Maior valor na coluna 'Duration (Minutes)':\", maior_minutos)"
      ],
      "metadata": {
        "id": "xqlEPFVQjUm8"
      },
      "execution_count": null,
      "outputs": []
    },
    {
      "cell_type": "code",
      "source": [
        "media_ano = df['Year'].mean()\n",
        "print(\"Média da coluna 'Year':\", media_ano)\n",
        "\n",
        "menor_ano = df['Year'].min()\n",
        "print(\"Menor valor na coluna 'Year':\", menor_ano)\n",
        "\n",
        "maior_ano = df['Year'].max()\n",
        "print(\"Maior valor na coluna 'Year':\", maior_ano)"
      ],
      "metadata": {
        "id": "r2oMDZyLWMcT"
      },
      "execution_count": null,
      "outputs": []
    },
    {
      "cell_type": "markdown",
      "source": [
        "### Análises Aprofundadas\n",
        " Aqui é realizada análises com gráficos e números."
      ],
      "metadata": {
        "id": "NmOSjrV9all4"
      }
    },
    {
      "cell_type": "markdown",
      "source": [
        "#### Quantidade de filmes por Década"
      ],
      "metadata": {
        "id": "VlzV8NyKRF_o"
      }
    },
    {
      "cell_type": "code",
      "source": [
        "contagem_decadas = df['Decade'].value_counts()\n",
        "contagem_decadas = contagem_decadas.sort_index()\n",
        "contagem_decadas.plot(kind='bar')\n",
        "\n",
        "plt.xlabel('Anos')\n",
        "plt.ylabel('Quantidade')\n",
        "plt.title('Quantidade de filmes por década')\n",
        "plt.show()"
      ],
      "metadata": {
        "id": "vQ6bdF4UY3Ze"
      },
      "execution_count": null,
      "outputs": []
    },
    {
      "cell_type": "markdown",
      "source": [
        "#### Contagem anual"
      ],
      "metadata": {
        "id": "94R3CPXPSi6y"
      }
    },
    {
      "cell_type": "code",
      "source": [
        "contagem_filmes_por_ano = df['Year'].value_counts().sort_index()\n",
        "\n",
        "\n",
        "plt.hist(df['Year'], bins=20, edgecolor='black')\n",
        "plt.title('Histograma da Contagem de Filmes por Ano')\n",
        "plt.xlabel('Ano de Lançamento')\n",
        "plt.ylabel('Contagem de Filmes')\n",
        "plt.xticks(rotation=45)\n",
        "plt.show()"
      ],
      "metadata": {
        "id": "oypCkF9MVtr6"
      },
      "execution_count": null,
      "outputs": []
    },
    {
      "cell_type": "code",
      "source": [
        "contagem_filmes_por_ano = df['Year'].value_counts()\n",
        "\n",
        "print(contagem_filmes_por_ano)"
      ],
      "metadata": {
        "id": "cCK0GKhI_hzn"
      },
      "execution_count": null,
      "outputs": []
    },
    {
      "cell_type": "code",
      "source": [
        "contagem_filmes_por_ano = df['Year'].value_counts()\n",
        "\n",
        "\n",
        "ano_com_mais_filmes = contagem_filmes_por_ano.idxmax()\n",
        "quantidade_filmes = contagem_filmes_por_ano.max()\n",
        "\n",
        "print(\"Ano com mais filmes:\", ano_com_mais_filmes)\n",
        "print(\"Quantidade de filmes:\", quantidade_filmes)"
      ],
      "metadata": {
        "id": "jg-HE7H8-gqU"
      },
      "execution_count": null,
      "outputs": []
    },
    {
      "cell_type": "code",
      "source": [
        "filmes_de_1995 = df[df['Year'] == 1995]\n",
        "\n",
        "print(filmes_de_1995)"
      ],
      "metadata": {
        "id": "A7ppmq1D_-Jq"
      },
      "execution_count": null,
      "outputs": []
    },
    {
      "cell_type": "markdown",
      "source": [
        "Os gráficos acima demonstram que, a partir dos anos 80, houve uma produção significativa de grandes filmes, como \"Star Wars\" e \"De Volta para o Futuro\". Um ponto interessante a mencionar é que os anos 2000 foram a década em que foram lançados os melhores filmes, de acordo com o IMDB.\n",
        "\n",
        "Além disso, 1995 foi o ano com mais filmes de sucesso, incluindo \"Se7en\" e \"Toy Story\"."
      ],
      "metadata": {
        "id": "chkLKCKP6Dz5"
      }
    },
    {
      "cell_type": "markdown",
      "source": [
        "#### Duração dos filmes em minutos"
      ],
      "metadata": {
        "id": "RF9HXOPcSXNi"
      }
    },
    {
      "cell_type": "code",
      "source": [
        "plt.hist(df['Duration (Minutes)'], bins=20, edgecolor='black')\n",
        "plt.title('Histograma da Duração dos Filmes')\n",
        "plt.xlabel('Duração (minutos)')\n",
        "plt.ylabel('Quantidade')\n",
        "plt.show()"
      ],
      "metadata": {
        "id": "aC2FkFY5Swyy"
      },
      "execution_count": null,
      "outputs": []
    },
    {
      "cell_type": "markdown",
      "source": [
        "A maioria dos filmes tem entre 100 a 150 minutos de duração."
      ],
      "metadata": {
        "id": "zPwQIv5qTptt"
      }
    },
    {
      "cell_type": "markdown",
      "source": [
        "#### Notas de Avaliação"
      ],
      "metadata": {
        "id": "_w2F5veqU8fd"
      }
    },
    {
      "cell_type": "code",
      "source": [
        "plt.hist(df['Ratings'], bins=20, edgecolor='black')\n",
        "plt.title('Histograma das Avaliações dos Filmes')\n",
        "plt.xlabel('Avaliações')\n",
        "plt.ylabel('Frequência')\n",
        "plt.show()"
      ],
      "metadata": {
        "id": "UFKUlg2XU_d4"
      },
      "execution_count": null,
      "outputs": []
    },
    {
      "cell_type": "markdown",
      "source": [
        "#### Classificação"
      ],
      "metadata": {
        "id": "5AmQNJjfWbW0"
      }
    },
    {
      "cell_type": "code",
      "source": [
        "contagem_classification = df['Classification'].value_counts().sort_index()\n",
        "contagem_classification.plot(kind='barh', color=sns.color_palette('Dark2'))\n",
        "plt.title('Contagem de Filmes por Classificação')\n",
        "plt.xlabel('Quantidade de Filmes')\n",
        "plt.ylabel('Classificação')\n",
        "plt.gca().spines[['top', 'right']].set_visible(False)\n",
        "plt.grid(axis='x')\n",
        "\n",
        "plt.show()"
      ],
      "metadata": {
        "id": "o7CULslLWecm"
      },
      "execution_count": null,
      "outputs": []
    },
    {
      "cell_type": "markdown",
      "source": [
        "#### Década x Notas de avaliações"
      ],
      "metadata": {
        "id": "XIkdvbXpRMte"
      }
    },
    {
      "cell_type": "code",
      "source": [
        "plt.scatter(df['Ratings'], df['Year'], alpha=0.5)\n",
        "plt.title('Avaliações de Filmes ao Longo do Tempo')\n",
        "plt.xlabel('Notas de Avaliações')\n",
        "plt.ylabel('Ano de Lançamento')\n",
        "plt.grid(True)\n",
        "plt.show()"
      ],
      "metadata": {
        "id": "SNsfjcb7RYIK"
      },
      "execution_count": null,
      "outputs": []
    },
    {
      "cell_type": "code",
      "source": [
        "media_notas_por_decada = df.groupby('Decade')['Ratings'].mean()\n",
        "\n",
        "print(\"Média das notas por década:\")\n",
        "print(media_notas_por_decada)\n",
        "\n"
      ],
      "metadata": {
        "id": "Bqa87l47MHhy"
      },
      "execution_count": null,
      "outputs": []
    },
    {
      "cell_type": "code",
      "source": [
        "contagem_filmes_por_decada = df['Decade'].value_counts()\n",
        "\n",
        "print(contagem_filmes_por_decada)\n"
      ],
      "metadata": {
        "id": "iaXH2t-aNNjI"
      },
      "execution_count": null,
      "outputs": []
    },
    {
      "cell_type": "code",
      "source": [
        "decadas_com_10_filmes_ou_mais = contagem_filmes_por_decada[contagem_filmes_por_decada >= 10].index\n",
        "\n",
        "df_filtrado = df[df['Decade'].isin(decadas_com_10_filmes_ou_mais)]\n",
        "\n",
        "media_avaliacoes_por_decada = df_filtrado.groupby('Decade')['Ratings'].mean()\n",
        "\n",
        "print(media_avaliacoes_por_decada)"
      ],
      "metadata": {
        "id": "7QeHJ5Y9PmNF"
      },
      "execution_count": null,
      "outputs": []
    },
    {
      "cell_type": "markdown",
      "source": [
        "Foi realizada uma análise para determinar qual década obteve a maior média de avaliações de filmes. Na primeira análise, o resultado apontou para os anos 2020. No entanto, essa década apresenta uma pequena quantidade de filmes. Para corrigir essa discrepância, aplicou-se um filtro que elimina décadas com menos de 10 filmes. Com esse ajuste, a década de 90 apresenta a maior média, com uma nota de 8.38."
      ],
      "metadata": {
        "id": "ilXvOEVpP-ad"
      }
    },
    {
      "cell_type": "markdown",
      "source": [
        "#### Notas de avaliação x Duração"
      ],
      "metadata": {
        "id": "dGgKEQyoTwWi"
      }
    },
    {
      "cell_type": "code",
      "source": [
        "plt.scatter(df['Ratings'], df['Duration (Minutes)'], alpha=0.5)\n",
        "plt.title('Notas de Avaliação vs. Duração dos Filmes')\n",
        "plt.xlabel('Notas de Avaliação')\n",
        "plt.ylabel('Duração (minutos)')\n",
        "plt.grid(True)\n",
        "plt.show()"
      ],
      "metadata": {
        "id": "kMqaE-nLO_wC"
      },
      "execution_count": null,
      "outputs": []
    },
    {
      "cell_type": "markdown",
      "source": [
        "O gráfico acima mostra que a maioria dos filmes têm entre 100 e 200 minutos de duração, indicando que não é necessário um filme ser muito longo para alcançar sucesso."
      ],
      "metadata": {
        "id": "WyVDE1AjQ0e8"
      }
    },
    {
      "cell_type": "markdown",
      "source": [
        "#### Duração x Ano\n",
        "\n",
        "\n"
      ],
      "metadata": {
        "id": "5ITzM0gxT-JQ"
      }
    },
    {
      "cell_type": "code",
      "source": [
        "plt.scatter(df['Year'], df['Duration (Minutes)'], alpha=0.5)\n",
        "plt.title('Duração dos Filmes vs. Ano')\n",
        "plt.xlabel('Ano')\n",
        "plt.ylabel('Duração (minutos)')\n",
        "plt.grid(True)\n",
        "plt.show()"
      ],
      "metadata": {
        "id": "j6746rFkT9M3"
      },
      "execution_count": null,
      "outputs": []
    },
    {
      "cell_type": "markdown",
      "source": [
        "Os filmes mais antigos, especialmente nos anos 20, tinham uma duração mais curta. A partir dos anos 40, os filmes começaram a apresentar a duração média das obras atuais."
      ],
      "metadata": {
        "id": "yMzRRN6eUwS7"
      }
    },
    {
      "cell_type": "markdown",
      "source": [
        "#### Classificação x Década"
      ],
      "metadata": {
        "id": "YqN7FPBfXymp"
      }
    },
    {
      "cell_type": "code",
      "source": [
        "contagem_classificacao_ano = df.groupby(['Decade', 'Classification']).size().unstack(fill_value=0)\n",
        "\n",
        "plt.figure(figsize=(14, 8))\n",
        "contagem_classificacao_ano.plot(kind='bar', stacked=True, colormap='Dark2', edgecolor='black')\n",
        "\n",
        "plt.title('Quantidade de Filmes por Classificação ao Longo das Décadas')\n",
        "plt.xlabel('Década')\n",
        "plt.ylabel('Quantidade de Filmes')\n",
        "plt.legend(title='Classificação')\n",
        "plt.grid(axis='y', linestyle='--', alpha=0.7)\n",
        "plt.xticks(rotation=45)\n",
        "plt.gca().spines[['top', 'right']].set_visible(False)\n",
        "\n",
        "plt.show()"
      ],
      "metadata": {
        "id": "GOuWaS_aX2Oe"
      },
      "execution_count": null,
      "outputs": []
    },
    {
      "cell_type": "markdown",
      "source": [
        "O gráfico mostra que, dos anos 20 aos anos 60, a maioria dos filmes era mais acessível ao público geral. No entanto, os filmes mais recentes têm uma classificação mais restrita (R), que no Brasil equivale à classificação para maiores de 16 anos."
      ],
      "metadata": {
        "id": "_T2QtnegZAJ1"
      }
    },
    {
      "cell_type": "markdown",
      "source": [
        "#### Classificação x Notas de avaliação"
      ],
      "metadata": {
        "id": "-fNvEdJify5c"
      }
    },
    {
      "cell_type": "code",
      "source": [
        "contagem_classificacao_ano = df.groupby(['Ratings', 'Classification']).size().unstack(fill_value=0)\n",
        "\n",
        "plt.figure(figsize=(14, 8))\n",
        "contagem_classificacao_ano.plot(kind='bar', stacked=True, colormap='Dark2', edgecolor='black')\n",
        "\n",
        "plt.title('Quantidade de Filmes por Classificação de acordo com as Notas de Avaliação')\n",
        "plt.xlabel('Notas de Avaliação')\n",
        "plt.ylabel('Quantidade de Filmes')\n",
        "plt.legend(title='Classificação')\n",
        "plt.grid(axis='y', linestyle='--', alpha=0.7)\n",
        "plt.xticks(rotation=45)\n",
        "plt.gca().spines[['top', 'right']].set_visible(False)\n",
        "\n",
        "plt.show()"
      ],
      "metadata": {
        "id": "idn-b2eff8_9"
      },
      "execution_count": null,
      "outputs": []
    },
    {
      "cell_type": "markdown",
      "source": [
        "Podemos perceber que os filmes classificados como 'R' são os mais bem-sucedidos por conta da sua quantiade e também por notas de avaliação."
      ],
      "metadata": {
        "id": "jI0qpUeChWB7"
      }
    },
    {
      "cell_type": "markdown",
      "source": [
        "#### Classificação x Duração"
      ],
      "metadata": {
        "id": "D0RKBZDBnYdY"
      }
    },
    {
      "cell_type": "code",
      "source": [
        "bins = [0, 60, 90, 120, 150, 180, float('inf')]\n",
        "labels = ['<60', '60-90', '90-120', '120-150', '150-180', '180+']\n",
        "df['Duration Category'] = pd.cut(df['Duration (Minutes)'], bins=bins, labels=labels)\n",
        "\n",
        "# Calcular a contagem de filmes por faixa de duração e classificação\n",
        "contagem_classificacao_duracao = df.groupby(['Duration Category', 'Classification']).size().unstack(fill_value=0)\n",
        "\n",
        "plt.figure(figsize=(14, 8))\n",
        "contagem_classificacao_duracao.plot(kind='bar', stacked=True, colormap='Dark2', edgecolor='black')\n",
        "\n",
        "plt.title('Quantidade de Filmes por Classificação de acordo com a Duração dos Filmes')\n",
        "plt.xlabel('Duração (Minutos)')\n",
        "plt.ylabel('Quantidade de Filmes')\n",
        "plt.legend(title='Classificação')\n",
        "plt.grid(axis='y', linestyle='--', alpha=0.7)\n",
        "plt.xticks(rotation=45)\n",
        "plt.gca().spines[['top', 'right']].set_visible(False)\n",
        "\n",
        "plt.show()"
      ],
      "metadata": {
        "id": "WsWSp7WsoObp"
      },
      "execution_count": null,
      "outputs": []
    },
    {
      "cell_type": "markdown",
      "source": [
        "O gráfico demonstra que filmes com duração superior a 90 minutos têm mais classificações 'R', ou seja, são mais restritos em termos de faixa etária."
      ],
      "metadata": {
        "id": "jXCiV9BLo9wZ"
      }
    },
    {
      "cell_type": "markdown",
      "source": [
        "#### Curisosidades\n"
      ],
      "metadata": {
        "id": "JBMNDWH_SWtL"
      }
    },
    {
      "cell_type": "markdown",
      "source": [
        "##### Filme mais longo"
      ],
      "metadata": {
        "id": "T4XUEXx9qPoS"
      }
    },
    {
      "cell_type": "code",
      "source": [
        "filme_mais_longo = df[df['Duration (Minutes)'] == df['Duration (Minutes)'].max()]\n",
        "print(\"Filme mais longo:\")\n",
        "print(\"Title:\", filme_mais_longo['Title'].iloc[0])\n",
        "print(\"Duração:\", filme_mais_longo['Duration (Minutes)'].iloc[0], \"minutos\")\n"
      ],
      "metadata": {
        "id": "RNMZukQWczCM"
      },
      "execution_count": null,
      "outputs": []
    },
    {
      "cell_type": "markdown",
      "source": [
        "##### Filme mais curto"
      ],
      "metadata": {
        "id": "xgDei3xnrbDj"
      }
    },
    {
      "cell_type": "code",
      "source": [
        "filme_mais_curto = df[df['Duration (Minutes)'] == df['Duration (Minutes)'].min()]\n",
        "print(\"Filme mais curto:\")\n",
        "print(\"Title:\", filme_mais_curto['Title'].iloc[0])\n",
        "print(\"Duração:\", filme_mais_curto['Duration (Minutes)'].iloc[0], \"minutos\")\n"
      ],
      "metadata": {
        "id": "bdbk1ZUuqWJe"
      },
      "execution_count": null,
      "outputs": []
    },
    {
      "cell_type": "markdown",
      "source": [
        "##### Filme com a maior avaliação"
      ],
      "metadata": {
        "id": "flg3ZBk8rrhC"
      }
    },
    {
      "cell_type": "code",
      "source": [
        "filme_melhor_avaliado = df[df['Ratings'] == df['Ratings'].max()]\n",
        "print(\"Filme melhor avaliado:\")\n",
        "print(\"Title:\", filme_melhor_avaliado['Title'].iloc[0])\n",
        "print(\"Avaliação:\", filme_melhor_avaliado['Ratings'].iloc[0])\n"
      ],
      "metadata": {
        "id": "d-rwVzEnrmL7"
      },
      "execution_count": null,
      "outputs": []
    },
    {
      "cell_type": "markdown",
      "source": [
        "Filme com a pior avaliação"
      ],
      "metadata": {
        "id": "AAYJN6Uary6o"
      }
    },
    {
      "cell_type": "code",
      "source": [
        "filme_pior_avaliado = df[df['Ratings'] == df['Ratings'].min()]\n",
        "print(\"Filme pior avaliado:\")\n",
        "print(\"Title:\", filme_pior_avaliado['Title'].iloc[0])\n",
        "print(\"Avaliação:\", filme_pior_avaliado['Ratings'].iloc[0])\n"
      ],
      "metadata": {
        "id": "bSC6Da7crxkO"
      },
      "execution_count": null,
      "outputs": []
    },
    {
      "cell_type": "markdown",
      "source": [
        "##### Filme mais antigo"
      ],
      "metadata": {
        "id": "ohXkzuZusGKp"
      }
    },
    {
      "cell_type": "code",
      "source": [
        "filme_mais_antigo = df[df['Year'] == df['Year'].min()]\n",
        "print(\"Filme mais antigo:\")\n",
        "print(\"Title:\", filme_mais_antigo['Title'].iloc[0])\n",
        "print(\"Ano:\", filme_mais_antigo['Year'].iloc[0])\n"
      ],
      "metadata": {
        "id": "L_tlI5tPr4P_"
      },
      "execution_count": null,
      "outputs": []
    },
    {
      "cell_type": "markdown",
      "source": [
        "##### Filme mais novo"
      ],
      "metadata": {
        "id": "lsLevrI3sMFq"
      }
    },
    {
      "cell_type": "code",
      "source": [
        "filme_mais_novo = df[df['Year'] == df['Year'].max()]\n",
        "print(\"Filme mais novo:\")\n",
        "print(\"Title:\", filme_mais_novo['Title'].iloc[0])\n",
        "print(\"Ano:\", filme_mais_novo['Year'].iloc[0])\n"
      ],
      "metadata": {
        "id": "nujAY7oGsK4C"
      },
      "execution_count": null,
      "outputs": []
    }
  ]
}